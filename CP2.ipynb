{
  "nbformat": 4,
  "nbformat_minor": 0,
  "metadata": {
    "colab": {
      "name": "CP2.ipynb",
      "provenance": [],
      "collapsed_sections": []
    },
    "kernelspec": {
      "name": "python3",
      "display_name": "Python 3"
    },
    "language_info": {
      "name": "python"
    }
  },
  "cells": [
    {
      "cell_type": "code",
      "metadata": {
        "colab": {
          "base_uri": "https://localhost:8080/"
        },
        "id": "vF869XxfaPNS",
        "outputId": "bfd95a6b-0030-4c70-b0f1-74089f43bdae"
      },
      "source": [
        "a=[2,3,6]\n",
        "counter=1\n",
        "for i in a :\n",
        "  counter = counter * i\n",
        "print(counter)"
      ],
      "execution_count": null,
      "outputs": [
        {
          "output_type": "stream",
          "text": [
            "36\n"
          ],
          "name": "stdout"
        }
      ]
    },
    {
      "cell_type": "code",
      "metadata": {
        "colab": {
          "base_uri": "https://localhost:8080/"
        },
        "id": "PVvlvvvVbl5r",
        "outputId": "70b61524-db3b-43b1-adf7-4e8dddabbc9e"
      },
      "source": [
        "def last(n): return n[-1]  \n",
        "  \n",
        "def sort_list_last(tuples):  \n",
        "  return sorted(tuples, key=last)  \n",
        "  \n",
        "print(sort_list_last([(2, 5), (1, 2), (4, 4), (2, 3), (2, 1)]))  "
      ],
      "execution_count": null,
      "outputs": [
        {
          "output_type": "stream",
          "text": [
            "[(2, 1), (1, 2), (2, 3), (4, 4), (2, 5)]\n"
          ],
          "name": "stdout"
        }
      ]
    },
    {
      "cell_type": "code",
      "metadata": {
        "colab": {
          "base_uri": "https://localhost:8080/"
        },
        "id": "lIWmnSBeWwol",
        "outputId": "ac2a2b35-6577-469e-c538-42f22b0eab74"
      },
      "source": [
        "d1 = {'a': 100, 'b': 200, 'c':300}\n",
        "d2 = {'a': 300, 'b': 200, 'd':400}\n",
        "\n",
        "d = {}\n",
        "for k in d1.keys() | d2.keys():\n",
        "    d[k] = d1.get(k, 0) + d2.get(k, 0)\n",
        "\n",
        "print(d)"
      ],
      "execution_count": 1,
      "outputs": [
        {
          "output_type": "stream",
          "text": [
            "{'d': 400, 'b': 400, 'c': 300, 'a': 400}\n"
          ],
          "name": "stdout"
        }
      ]
    },
    {
      "cell_type": "code",
      "metadata": {
        "colab": {
          "base_uri": "https://localhost:8080/"
        },
        "id": "f1ZVxoxVXTpN",
        "outputId": "ee8c8d82-a548-4bac-dc6f-ff5d36d7375d"
      },
      "source": [
        "number = int(input(\"Type a number: \"))\n",
        "\n",
        "numberDict = {}\n",
        "for i in range(1, number+1):\n",
        "    numberDict[i] = i*i\n",
        "\n",
        "print(numberDict)"
      ],
      "execution_count": 5,
      "outputs": [
        {
          "output_type": "stream",
          "text": [
            "Type a number: 7\n",
            "{1: 1, 2: 4, 3: 9, 4: 16, 5: 25, 6: 36, 7: 49}\n"
          ],
          "name": "stdout"
        }
      ]
    },
    {
      "cell_type": "code",
      "metadata": {
        "id": "1qI7Vrm8ZKc4"
      },
      "source": [
        ""
      ],
      "execution_count": null,
      "outputs": []
    }
  ]
}